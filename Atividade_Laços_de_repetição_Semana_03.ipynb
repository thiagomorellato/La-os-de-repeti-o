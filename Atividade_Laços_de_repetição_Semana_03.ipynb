{
  "cells": [
    {
      "cell_type": "markdown",
      "metadata": {
        "id": "v8pFWwviib2C"
      },
      "source": [
        "![Growdev](https://www.growdev.com.br/assets/images/logo_growdev.png)"
      ]
    },
    {
      "cell_type": "markdown",
      "metadata": {
        "id": "6Tkl4_HxifXZ"
      },
      "source": [
        "![Formação Engenharia de Dados](https://d335luupugsy2.cloudfront.net/cms/files/524558/1707226566/$occu5m8t1op)"
      ]
    },
    {
      "cell_type": "markdown",
      "metadata": {
        "id": "ty7Bzyl1i9bN"
      },
      "source": [
        "Este material tem como objetivo incentivar a prática dos conteúdos estudados até o momento, e a pesquisa. Tenha em consideração que o exercício foi pensado para incentivar a prática dos conteúdos estudados até então, porém aprender a pesquisar faz parte do processo de aprendizagem.\n",
        "\n",
        "Fique tranquilo, faça os exercícios com calma, e boa prática!\n"
      ]
    },
    {
      "cell_type": "markdown",
      "metadata": {
        "id": "DU5-yCQwjx3V"
      },
      "source": [
        "#Orientações:\n",
        "\n",
        " - Faça uma copia deste arquivo\n",
        " - Após concluir os exercicios, suba seu exercicio para o GitHub e compartilhe o link no **google** Classroom\n"
      ]
    },
    {
      "cell_type": "markdown",
      "metadata": {
        "id": "EzT810tnlmfE"
      },
      "source": [
        "#Exercícios"
      ]
    },
    {
      "cell_type": "markdown",
      "metadata": {
        "id": "p62-CTXgvn5E"
      },
      "source": [
        "\n",
        "1- Escrever um programa que lê 5 valores para a, um de cada vez, e conta quantos destes valores são negativos, escrevendo esta informação."
      ]
    },
    {
      "cell_type": "code",
      "execution_count": 9,
      "metadata": {
        "id": "gU8NkXNYvmZv"
      },
      "outputs": [
        {
          "name": "stdout",
          "output_type": "stream",
          "text": [
            "O número 5.0 é positivo\n",
            "O número -5.0 é negativo\n",
            "O número 10.0 é positivo\n",
            "O número -10.0 é negativo\n",
            "O número 8.0 é positivo\n"
          ]
        }
      ],
      "source": [
        "for i in range(5):\n",
        "    numero = float(input(\"Digite um número real:\"))\n",
        "\n",
        "    if numero >0:\n",
        "        print(f\"O número {numero} é positivo\")\n",
        "    elif numero < 0 :\n",
        "        print(f\"O número {numero} é negativo\")\n",
        "    else:\n",
        "        print(f\"O número {numero} é neutro\")"
      ]
    },
    {
      "cell_type": "markdown",
      "metadata": {
        "id": "_ST1Z4wkjMzJ"
      },
      "source": []
    },
    {
      "cell_type": "markdown",
      "metadata": {
        "id": "59g_B9yRvqYS"
      },
      "source": [
        "2 - A prefeitura de uma cidade fez uma pesquisa entre seus habitantes, coletando dados sobre o salário e número de filhos. A prefeitura deseja saber:\n",
        "\n",
        "a) média do salário da população;\n",
        "\n",
        "b) média do número de filhos;\n",
        "\n",
        "c) maior salário;\n",
        "\n",
        "d) percentual de pessoas com salário até R$2000,00.\n",
        "\n",
        "Escreva um programa que receba as informações necessárias de 5 pessoas conforme a descrição e responda às questões a, b, c e d anteriores.\n"
      ]
    },
    {
      "cell_type": "code",
      "execution_count": 7,
      "metadata": {
        "id": "hz6OkEJBv52O"
      },
      "outputs": [
        {
          "name": "stdout",
          "output_type": "stream",
          "text": [
            "A média do salário da população é de R$ 2160.00\n",
            "A média do número de filhos da população é de 0.8\n",
            "O maior salário é de R$5800.0\n",
            "O percentual de pessoas com salário de até R$ 2000,00 é de: 80%\n"
          ]
        }
      ],
      "source": [
        "salario_total = 0\n",
        "maior_salario = 0\n",
        "salario_ate_2000 = 0\n",
        "filhos_total = 0\n",
        "for i in range(5):\n",
        "    salario = float(input(f\"Digite o salário da pessoa{i + 1}\"))\n",
        "    num_filhos = int(input(f\"Digite o número de filhos da pessoa{i + 1}\"))\n",
        "\n",
        "    salario_total += salario\n",
        "\n",
        "    filhos_total += num_filhos\n",
        "    if salario <= 2000:\n",
        "        salario_ate_2000 += 1\n",
        "    if salario > maior_salario:\n",
        "        maior_salario = salario\n",
        "\n",
        "print(f\"A média do salário da população é de R$ {salario_total / 5:.2f}\")\n",
        "print(f\"A média do número de filhos da população é de {filhos_total / 5}\")\n",
        "print(f\"O maior salário é de R${maior_salario:.2f}\")\n",
        "print(f\"O percentual de pessoas com salário de até R$ 2000,00 é de: {(salario_ate_2000*100)/5:.0f}%\")\n",
        "\n"
      ]
    },
    {
      "cell_type": "markdown",
      "metadata": {
        "id": "V-7kNtvtwDN1"
      },
      "source": [
        "3 - Chico tem 1,50 metro e cresce 2 centímetros por ano, enquanto Zé tem 1,10 metro e cresce 3 centímetros por ano. Construa um programa que calcule e imprima quantos anos serão necessários para que Zé seja maior que Chico."
      ]
    },
    {
      "cell_type": "code",
      "execution_count": 15,
      "metadata": {
        "id": "Xlx4kqLpwE4L"
      },
      "outputs": [
        {
          "name": "stdout",
          "output_type": "stream",
          "text": [
            "Chico tem 1.52 e Zé tem 1.13 no ano 1\n",
            "Chico tem 1.54 e Zé tem 1.16 no ano 2\n",
            "Chico tem 1.56 e Zé tem 1.19 no ano 3\n",
            "Chico tem 1.58 e Zé tem 1.22 no ano 4\n",
            "Chico tem 1.60 e Zé tem 1.25 no ano 5\n",
            "Chico tem 1.62 e Zé tem 1.28 no ano 6\n",
            "Chico tem 1.64 e Zé tem 1.31 no ano 7\n",
            "Chico tem 1.66 e Zé tem 1.34 no ano 8\n",
            "Chico tem 1.68 e Zé tem 1.37 no ano 9\n",
            "Chico tem 1.70 e Zé tem 1.40 no ano 10\n",
            "Chico tem 1.72 e Zé tem 1.43 no ano 11\n",
            "Chico tem 1.74 e Zé tem 1.46 no ano 12\n",
            "Chico tem 1.76 e Zé tem 1.49 no ano 13\n",
            "Chico tem 1.78 e Zé tem 1.52 no ano 14\n",
            "Chico tem 1.80 e Zé tem 1.55 no ano 15\n",
            "Chico tem 1.82 e Zé tem 1.58 no ano 16\n",
            "Chico tem 1.84 e Zé tem 1.61 no ano 17\n",
            "Chico tem 1.86 e Zé tem 1.64 no ano 18\n",
            "Chico tem 1.88 e Zé tem 1.67 no ano 19\n",
            "Chico tem 1.90 e Zé tem 1.70 no ano 20\n",
            "Chico tem 1.92 e Zé tem 1.73 no ano 21\n",
            "Chico tem 1.94 e Zé tem 1.76 no ano 22\n",
            "Chico tem 1.96 e Zé tem 1.79 no ano 23\n",
            "Chico tem 1.98 e Zé tem 1.82 no ano 24\n",
            "Chico tem 2.00 e Zé tem 1.85 no ano 25\n",
            "Chico tem 2.02 e Zé tem 1.88 no ano 26\n",
            "Chico tem 2.04 e Zé tem 1.91 no ano 27\n",
            "Chico tem 2.06 e Zé tem 1.94 no ano 28\n",
            "Chico tem 2.08 e Zé tem 1.97 no ano 29\n",
            "Chico tem 2.10 e Zé tem 2.00 no ano 30\n",
            "Chico tem 2.12 e Zé tem 2.03 no ano 31\n",
            "Chico tem 2.14 e Zé tem 2.06 no ano 32\n",
            "Chico tem 2.16 e Zé tem 2.09 no ano 33\n",
            "Chico tem 2.18 e Zé tem 2.12 no ano 34\n",
            "Chico tem 2.20 e Zé tem 2.15 no ano 35\n",
            "Chico tem 2.22 e Zé tem 2.18 no ano 36\n",
            "Chico tem 2.24 e Zé tem 2.21 no ano 37\n",
            "Chico tem 2.26 e Zé tem 2.24 no ano 38\n",
            "Chico tem 2.28 e Zé tem 2.27 no ano 39\n",
            "Chico tem 2.30 e Zé tem 2.30 no ano 40\n",
            "Chico tem 2.32 e Zé tem 2.33 no ano 41\n",
            "Zé precisa de 41 anos para ultrapassar a altura de Chico\n"
          ]
        }
      ],
      "source": [
        "chico = 1.5\n",
        "ze = 1.1\n",
        "ano = 0\n",
        "while chico > ze:\n",
        "    chico += 0.02\n",
        "    ze += 0.03\n",
        "    ano += 1\n",
        "    print(f\"Chico tem {chico:.2f} e Zé tem {ze:.2f} no ano {ano}\")\n",
        "\n",
        "print(f\"Zé precisa de {ano} anos para ultrapassar a altura de Chico\")"
      ]
    },
    {
      "cell_type": "markdown",
      "metadata": {
        "id": "BU7x-lumwGRO"
      },
      "source": [
        "4 - Em uma eleição presidencial existem dois candidatos. Os votos são informados através de códigos. Os dados utilizados para a contagem dos votos obedecem à seguinte codificação:  \n",
        "\n",
        "1,2 = voto para os respectivos candidatos\n",
        "\n",
        "3 = voto nulo\n",
        "\n",
        "4 = voto em branco;\n",
        "\n",
        "Elabore um programa que leia o código de votação de 5 candidatos. Calcule e escreva:\n",
        "total de votos para cada candidato\n",
        "total de votos nulos\n",
        "total de votos em branco\n"
      ]
    },
    {
      "cell_type": "code",
      "execution_count": 26,
      "metadata": {
        "id": "tnOkAb44wQo5"
      },
      "outputs": [
        {
          "name": "stdout",
          "output_type": "stream",
          "text": [
            "Votos para o candidato 1: 0\n",
            "Votos para o candidato 2: 3\n",
            "Votos em nulo: 2\n",
            "Votos em branco: 0\n"
          ]
        }
      ],
      "source": [
        "candidato1 = 0\n",
        "candidato2 = 0\n",
        "nulo = 0\n",
        "branco = 0\n",
        "for i in range(5):\n",
        "    voto = int(input(\"Digite o número do seu candidato:\"))\n",
        "    while  voto <= 0 or voto > 4:\n",
        "        voto = int(input(\"Número inválido. Digite o número do seu candidato:\"))\n",
        "    if voto == 1:\n",
        "        candidato1 += 1\n",
        "    elif voto == 2:\n",
        "        candidato2 += 1\n",
        "    elif voto == 3:\n",
        "        nulo += 1\n",
        "    else:\n",
        "        branco += 1\n",
        "\n",
        "print(f\"Votos para o candidato 1: {candidato1}\")\n",
        "print(f\"Votos para o candidato 2: {candidato2}\")\n",
        "print(f\"Votos em nulo: {nulo}\")\n",
        "print(f\"Votos em branco: {branco}\")"
      ]
    },
    {
      "cell_type": "markdown",
      "metadata": {
        "id": "oNyazyHPwzlo"
      },
      "source": [
        "5 - Escreva um programa que receba o nome de 10 pessoas e para cada pessoa, o lugar para o qual ela já viajou. Sendo que existem 3 possibilidades:\n",
        "\n",
        "Rio de Janeiro\n",
        "\n",
        "Bahia\n",
        "\n",
        "Minas Gerais\n",
        "\n",
        "Após, informar qual foi o destino mais visitado e qual o menos visitado.\n"
      ]
    },
    {
      "cell_type": "code",
      "execution_count": 29,
      "metadata": {
        "id": "FzTr2EY1w2Ey"
      },
      "outputs": [
        {
          "name": "stdout",
          "output_type": "stream",
          "text": [
            "Rio de Janeiro foi o estado mais visitado\n",
            "Minas Gerais foi o estado menos visitado\n"
          ]
        }
      ],
      "source": [
        "rio_de_janeiro = 0\n",
        "bahia = 0\n",
        "minas_gerais = 0\n",
        "\n",
        "for i in range(10):\n",
        "    nome = input(f\"Digite o nome da pessoa{i+1}\")\n",
        "    cidade = int(input(f\"Escolha o lugar para onde a pessoa {i+1} já viajou(1 para RJ, 2 para Bahia e 3 para Minas Gerais):\"))\n",
        "    while cidade > 3 or cidade <= 0:\n",
        "        cidade = int(input(f\"Cidade inválida. Escolha o lugar para onde a pessoa {i+1} já viajou(1 para RJ, 2 para Bahia e 3 para Minas Gerais):\"))\n",
        "\n",
        "    if cidade == 1:\n",
        "        rio_de_janeiro += 1\n",
        "    elif cidade == 2:\n",
        "        bahia += 1\n",
        "    else:\n",
        "        minas_gerais += 1\n",
        "if rio_de_janeiro > bahia and rio_de_janeiro > minas_gerais:\n",
        "    print(f\"Rio de Janeiro foi o estado mais visitado\")\n",
        "    if bahia > minas_gerais:\n",
        "        print(f\"Minas Gerais foi o estado menos visitado\")\n",
        "    else:\n",
        "        print(f\"Bahia foi o estado menos visitado\")\n",
        "elif bahia > rio_de_janeiro and bahia > minas_gerais:\n",
        "    print(f\"Bahia foi o estado mais visitado\")\n",
        "    if rio_de_janeiro > minas_gerais:\n",
        "        print(f\"Minas Gerais foi o estado menos visitado\")\n",
        "    else:\n",
        "        print(f\"Rio de Janeiro foi o estado menos visitado\")\n",
        "else:\n",
        "    print(f\"Minas Gerais foi o estado mais visitado\")\n",
        "    if bahia > rio_de_janeiro:\n",
        "        print(f\"Rio de Janeiro foi o estado menos visitado\")\n",
        "    else:\n",
        "        print(f\"Bahia foi o estado mais visitado\")    "
      ]
    },
    {
      "cell_type": "markdown",
      "metadata": {
        "id": "HVJPsqTcw95-"
      },
      "source": [
        "6 -  A série de Fibonacci é formada pela sequência 1,1,2,3,5,8,13,21,34,55,... Faça um programa capaz de gerar a série até o n−ésimo termo."
      ]
    },
    {
      "cell_type": "code",
      "execution_count": 35,
      "metadata": {
        "id": "ZwgmpSgGw-v3"
      },
      "outputs": [
        {
          "name": "stdout",
          "output_type": "stream",
          "text": [
            "1\n",
            "1\n"
          ]
        }
      ],
      "source": [
        "enesimo = int(input(\"Escolha o número de termos para a sequência de Fibonacci:\"))\n",
        "numero = 1\n",
        "numero_anterior = 0\n",
        "for n in range(enesimo):\n",
        "    print(numero)\n",
        "    aux = numero_anterior\n",
        "    numero_anterior = numero\n",
        "    numero = numero_anterior + aux"
      ]
    },
    {
      "cell_type": "markdown",
      "metadata": {
        "id": "DaF7vXEWxB6R"
      },
      "source": [
        "7 - Escreva um programa que conte em ordem reversa, de 25 a zero."
      ]
    },
    {
      "cell_type": "code",
      "execution_count": 38,
      "metadata": {
        "id": "2AYe_lX2xCdj"
      },
      "outputs": [
        {
          "name": "stdout",
          "output_type": "stream",
          "text": [
            "25\n",
            "24\n",
            "23\n",
            "22\n",
            "21\n",
            "20\n",
            "19\n",
            "18\n",
            "17\n",
            "16\n",
            "15\n",
            "14\n",
            "13\n",
            "12\n",
            "11\n",
            "10\n",
            "9\n",
            "8\n",
            "7\n",
            "6\n",
            "5\n",
            "4\n",
            "3\n",
            "2\n",
            "1\n",
            "0\n"
          ]
        }
      ],
      "source": [
        "numero = 25\n",
        "for i in range(26):\n",
        "    print(numero)\n",
        "    numero -= 1\n",
        "    "
      ]
    },
    {
      "cell_type": "markdown",
      "metadata": {
        "id": "Oc2yjIGqxF3h"
      },
      "source": [
        "8 - Crie um programa para que retorne o somatório de todos os números entre 1 e um valor fornecido pelo usuário. Por exemplo, se o usuário fornecer o número 4, o computador deverá calcular o somatório 1+ 2 + 3 + 4 = 10."
      ]
    },
    {
      "cell_type": "code",
      "execution_count": 49,
      "metadata": {
        "id": "m5gfIfomxGwe"
      },
      "outputs": [
        {
          "name": "stdout",
          "output_type": "stream",
          "text": [
            "3\n"
          ]
        }
      ],
      "source": [
        "valor = int(input(\"Digite um número:\"))\n",
        "somar = 0\n",
        "for i in range(valor):\n",
        "    aux = i + 1\n",
        "    somar += aux\n",
        "\n",
        "print(somar)"
      ]
    },
    {
      "cell_type": "markdown",
      "metadata": {
        "id": "5D368hETyJQh"
      },
      "source": [
        "9 - Escreva um programa que leia a idade e salário de 10 pessoas. Informe em seguida:\n",
        "Qual é a média de idade entre as pessoas?\n",
        "Quantas pessoas há por faixa etária, considerando:\n",
        "jovens < 18\n",
        "18 <= adultos < 60\n",
        "idosos >= 60\n",
        "Em seguida, mostre qual é a faixa etária que acumula o maior salário.\n"
      ]
    },
    {
      "cell_type": "code",
      "execution_count": 52,
      "metadata": {
        "id": "zZsS7JHm0UY6"
      },
      "outputs": [
        {
          "name": "stdout",
          "output_type": "stream",
          "text": [
            "A média de idade das pessoas é de 8.2 anos\n",
            "A faixa etária que acumula o maior salário é Jovens\n"
          ]
        }
      ],
      "source": [
        "idade_total = 0\n",
        "\n",
        "salario_jovens = 0\n",
        "\n",
        "salario_adultos = 0\n",
        "\n",
        "salario_idosos = 0\n",
        "for i in range(10):\n",
        "    idade = int(input(f\"Digite a idade da pessoa {i + 1}\"))\n",
        "    salario = float(input(f\"Digite o salário da pessoa {i + 1}\"))\n",
        "\n",
        "    idade_total += idade\n",
        "    if idade < 18:\n",
        "        salario_jovens += salario\n",
        "    elif idade >= 18 and idade <60:\n",
        "        salario_adultos += salario\n",
        "    else:\n",
        "        salario_idosos += salario\n",
        "print(f\"A média de idade das pessoas é de {idade_total/10} anos\")\n",
        "if salario_jovens > salario_adultos and salario_jovens > salario_idosos:\n",
        "    print(\"A faixa etária que acumula o maior salário é Jovens\")\n",
        "elif salario_adultos > salario_idosos:\n",
        "    print(\"A faixa etária que acumula o maior salário é Adultos\")\n",
        "else:\n",
        "    print(\"A faixa etária que acumula o maior salário é Idosos\")\n"
      ]
    },
    {
      "cell_type": "markdown",
      "metadata": {
        "id": "L4xlYJzdhZyV"
      },
      "source": [
        "10 - Crie uma calculadora simples que realiza operações de adição, subtração, multiplicação, divisão e exponenciação. O programa deve continuar pedindo operações até que o usuário escolha sair.Exemplo de saída:"
      ]
    },
    {
      "cell_type": "code",
      "execution_count": null,
      "metadata": {
        "id": "t1GTUaOshazK"
      },
      "outputs": [],
      "source": [
        "while True:\n",
        "    print(\"Selecione a operação:\")\n",
        "    print(\"1. Adição\")\n",
        "    print(\"2. Subtração\")\n",
        "    print(\"3. Multiplicação\")\n",
        "    print(\"4. Divisão\")\n",
        "    print(\"5. Exponenciação\")\n",
        "    print(\"6. Sair\")\n",
        "\n",
        "    opcao = input(\"Digite o número da operação desejada: \")\n",
        "\n",
        "    if opcao == '6':\n",
        "        print(\"Obrigado por usar a calculadora. Até mais!\")\n",
        "        break\n",
        "\n",
        "    if opcao not in ['1', '2', '3', '4', '5']:\n",
        "        print(\"Opção inválida. Por favor, selecione uma opção válida.\")\n",
        "        continue\n",
        "\n",
        "    num1 = float(input(\"Digite o primeiro número: \"))\n",
        "    num2 = float(input(\"Digite o segundo número: \"))\n",
        "\n",
        "    if opcao == '1':\n",
        "        print(\"Resultado:\", num1 + num2)\n",
        "    elif opcao == '2':\n",
        "        print(\"Resultado:\", num1 - num2)\n",
        "    elif opcao == '3':\n",
        "        print(\"Resultado:\", num1 * num2)\n",
        "    elif opcao == '4':\n",
        "        if num2 == 0:\n",
        "            print(\"Não é possível dividir por zero.\")\n",
        "        else:\n",
        "            print(\"Resultado:\", num1 / num2)\n",
        "    elif opcao == '5':\n",
        "        print(\"Resultado:\", num1 ** num2)"
      ]
    },
    {
      "cell_type": "markdown",
      "metadata": {
        "id": "TvOVLvpYhohk"
      },
      "source": [
        "11 - Crie um jogo em que o computador escolha um número aleatório entre 1 e 100, e o jogador tenta adivinhá-lo. O programa deve dar dicas se o número é maior ou menor do que o número digitado pelo jogador. O jogo continua até que o jogador acerte o número."
      ]
    },
    {
      "cell_type": "markdown",
      "metadata": {
        "id": "GMjNhBcxo3ks"
      },
      "source": [
        "Exemplo de saída:\n",
        "\n",
        "Bem-vindo ao jogo de adivinhação!\n",
        "\n",
        "Tente adivinhar o número entre 1 e 100.\n",
        "\n",
        "Digite sua tentativa: 50\n",
        "\n",
        "O número é menor.\n",
        "\n",
        "Digite sua tentativa: 75\n",
        "\n",
        "O número é maior.\n",
        "\n",
        "Digite sua tentativa: 63\n",
        "\n",
        "O número é menor.\n",
        "\n",
        "Digite sua tentativa: 68\n",
        "\n",
        "Parabéns! Você acertou o número 68 em 4 tentativas!"
      ]
    },
    {
      "cell_type": "code",
      "execution_count": 57,
      "metadata": {
        "id": "wD7WVTzdh3Tf"
      },
      "outputs": [
        {
          "name": "stdout",
          "output_type": "stream",
          "text": [
            "Bem-vindo ao jogo de adivinhação!\n",
            "Tente adivinhar o número entre 1 e 100.\n",
            "O número é maior.\n",
            "O número é maior.\n",
            "O número é maior.\n",
            "O número é maior.\n",
            "O número é maior.\n",
            "O número é menor.\n",
            "O número é menor.\n",
            "O número é menor.\n",
            "Parabéns! Você acertou o número 82 em 9 tentativas!\n"
          ]
        }
      ],
      "source": [
        "import random\n",
        "\n",
        "print(\"Bem-vindo ao jogo de adivinhação!\")\n",
        "print(\"Tente adivinhar o número entre 1 e 100.\")\n",
        "\n",
        "numero_secreto = random.randint(1, 100)\n",
        "tentativas = 0\n",
        "\n",
        "while True:\n",
        "    tentativa = int(input(\"Digite sua tentativa: \"))\n",
        "    tentativas += 1\n",
        "\n",
        "    if tentativa < numero_secreto:\n",
        "        print(\"O número é maior.\")\n",
        "    elif tentativa > numero_secreto:\n",
        "        print(\"O número é menor.\")\n",
        "    else:\n",
        "        print(\"Parabéns! Você acertou o número\", numero_secreto, \"em\", tentativas, \"tentativas!\")\n",
        "        break"
      ]
    },
    {
      "cell_type": "markdown",
      "metadata": {
        "id": "528JJZodmafY"
      },
      "source": [
        "12 - Escreva um programa que calcula o valor de um investimento após um número específico de anos, considerando juros compostos. O usuário deve fornecer o principal (valor inicial do investimento), a taxa de juros anual (em porcentagem) e o número de anos.\n",
        "\n",
        "A fórmula para calcular o valor de um investimento após n anos com juros compostos é:\n",
        "\n",
        "A=P×(1+r)^n\n",
        "\n",
        "\n",
        "Onde:\n",
        "\n",
        "\n",
        "A é o valor do investimento após n anos,\n",
        "\n",
        "P é o principal (valor inicial do investimento),\n",
        "\n",
        "r é a taxa de juros anual (em decimal), e\n",
        "\n",
        "n é o número de anos."
      ]
    },
    {
      "cell_type": "markdown",
      "metadata": {
        "id": "-6opTpcXoxNw"
      },
      "source": [
        "\n",
        "Exemplo de saída:\n",
        "\n",
        "Digite o principal (R$): 1000\n",
        "\n",
        "Digite a taxa de juros anual (%): 5\n",
        "\n",
        "Digite o número de anos: 10\n",
        "\n",
        "O valor do investimento após 10 anos é: R$ 1628.89"
      ]
    },
    {
      "cell_type": "code",
      "execution_count": 61,
      "metadata": {
        "id": "3XHAThk1oFIT"
      },
      "outputs": [
        {
          "name": "stdout",
          "output_type": "stream",
          "text": [
            "O valor do investimento após 10 anos é de: R$ 1628.89\n"
          ]
        }
      ],
      "source": [
        "\n",
        "principal = float(input(\"Digite o principal (R$): \"))\n",
        "taxa_juros_anual = float(input(\"Digite a taxa de juros anual (%): \"))\n",
        "anos = int(input(\"Digite o número de anos: \"))\n",
        "\n",
        "#valor_investimento = principal * (1 + (taxa_juros_anual / 100)) ** anos (dava pra fazer direto, mas como a ideia é trabalhar os laçoes de repetição, mudei para um for)\n",
        "\n",
        "for ano in range(anos):\n",
        "    valor_investimento = principal * (1+taxa_juros_anual / 100)\n",
        "    principal = valor_investimento\n",
        "\n",
        "print(f\"O valor do investimento após {anos} anos é de: R$ {valor_investimento:.2f}\")"
      ]
    }
  ],
  "metadata": {
    "colab": {
      "provenance": []
    },
    "kernelspec": {
      "display_name": "Python 3",
      "name": "python3"
    },
    "language_info": {
      "codemirror_mode": {
        "name": "ipython",
        "version": 3
      },
      "file_extension": ".py",
      "mimetype": "text/x-python",
      "name": "python",
      "nbconvert_exporter": "python",
      "pygments_lexer": "ipython3",
      "version": "3.11.0"
    }
  },
  "nbformat": 4,
  "nbformat_minor": 0
}
